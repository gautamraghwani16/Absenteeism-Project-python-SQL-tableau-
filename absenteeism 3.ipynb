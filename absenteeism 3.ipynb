{
 "cells": [
  {
   "cell_type": "code",
   "execution_count": 1,
   "id": "51c62989",
   "metadata": {},
   "outputs": [],
   "source": [
    "import numpy as np\n",
    "import pandas as pd"
   ]
  },
  {
   "cell_type": "code",
   "execution_count": 3,
   "id": "022e31b8",
   "metadata": {},
   "outputs": [],
   "source": [
    "df_new_obs = pd.read_csv(\"Absenteeism_predictions.csv\")"
   ]
  },
  {
   "cell_type": "code",
   "execution_count": 4,
   "id": "9febbdaa",
   "metadata": {},
   "outputs": [
    {
     "data": {
      "text/html": [
       "<div>\n",
       "<style scoped>\n",
       "    .dataframe tbody tr th:only-of-type {\n",
       "        vertical-align: middle;\n",
       "    }\n",
       "\n",
       "    .dataframe tbody tr th {\n",
       "        vertical-align: top;\n",
       "    }\n",
       "\n",
       "    .dataframe thead th {\n",
       "        text-align: right;\n",
       "    }\n",
       "</style>\n",
       "<table border=\"1\" class=\"dataframe\">\n",
       "  <thead>\n",
       "    <tr style=\"text-align: right;\">\n",
       "      <th></th>\n",
       "      <th>reason_1</th>\n",
       "      <th>reason_2</th>\n",
       "      <th>reason_3</th>\n",
       "      <th>reason_4</th>\n",
       "      <th>month_value</th>\n",
       "      <th>transportation_expense</th>\n",
       "      <th>age</th>\n",
       "      <th>body_mass_index</th>\n",
       "      <th>education</th>\n",
       "      <th>children</th>\n",
       "      <th>pets</th>\n",
       "      <th>probability</th>\n",
       "      <th>prediction</th>\n",
       "    </tr>\n",
       "  </thead>\n",
       "  <tbody>\n",
       "    <tr>\n",
       "      <th>0</th>\n",
       "      <td>0</td>\n",
       "      <td>0</td>\n",
       "      <td>0</td>\n",
       "      <td>1</td>\n",
       "      <td>6</td>\n",
       "      <td>179</td>\n",
       "      <td>30</td>\n",
       "      <td>19</td>\n",
       "      <td>1</td>\n",
       "      <td>0</td>\n",
       "      <td>0</td>\n",
       "      <td>0.105075</td>\n",
       "      <td>0</td>\n",
       "    </tr>\n",
       "    <tr>\n",
       "      <th>1</th>\n",
       "      <td>1</td>\n",
       "      <td>0</td>\n",
       "      <td>0</td>\n",
       "      <td>0</td>\n",
       "      <td>6</td>\n",
       "      <td>361</td>\n",
       "      <td>28</td>\n",
       "      <td>27</td>\n",
       "      <td>0</td>\n",
       "      <td>1</td>\n",
       "      <td>4</td>\n",
       "      <td>0.810120</td>\n",
       "      <td>1</td>\n",
       "    </tr>\n",
       "    <tr>\n",
       "      <th>2</th>\n",
       "      <td>0</td>\n",
       "      <td>0</td>\n",
       "      <td>0</td>\n",
       "      <td>1</td>\n",
       "      <td>6</td>\n",
       "      <td>155</td>\n",
       "      <td>34</td>\n",
       "      <td>25</td>\n",
       "      <td>0</td>\n",
       "      <td>2</td>\n",
       "      <td>0</td>\n",
       "      <td>0.241170</td>\n",
       "      <td>0</td>\n",
       "    </tr>\n",
       "    <tr>\n",
       "      <th>3</th>\n",
       "      <td>0</td>\n",
       "      <td>0</td>\n",
       "      <td>0</td>\n",
       "      <td>1</td>\n",
       "      <td>6</td>\n",
       "      <td>179</td>\n",
       "      <td>40</td>\n",
       "      <td>22</td>\n",
       "      <td>1</td>\n",
       "      <td>2</td>\n",
       "      <td>0</td>\n",
       "      <td>0.160729</td>\n",
       "      <td>0</td>\n",
       "    </tr>\n",
       "    <tr>\n",
       "      <th>4</th>\n",
       "      <td>1</td>\n",
       "      <td>0</td>\n",
       "      <td>0</td>\n",
       "      <td>0</td>\n",
       "      <td>6</td>\n",
       "      <td>155</td>\n",
       "      <td>34</td>\n",
       "      <td>25</td>\n",
       "      <td>0</td>\n",
       "      <td>2</td>\n",
       "      <td>0</td>\n",
       "      <td>0.751491</td>\n",
       "      <td>1</td>\n",
       "    </tr>\n",
       "  </tbody>\n",
       "</table>\n",
       "</div>"
      ],
      "text/plain": [
       "   reason_1  reason_2  reason_3  reason_4  month_value  \\\n",
       "0         0         0         0         1            6   \n",
       "1         1         0         0         0            6   \n",
       "2         0         0         0         1            6   \n",
       "3         0         0         0         1            6   \n",
       "4         1         0         0         0            6   \n",
       "\n",
       "   transportation_expense  age  body_mass_index  education  children  pets  \\\n",
       "0                     179   30               19          1         0     0   \n",
       "1                     361   28               27          0         1     4   \n",
       "2                     155   34               25          0         2     0   \n",
       "3                     179   40               22          1         2     0   \n",
       "4                     155   34               25          0         2     0   \n",
       "\n",
       "   probability  prediction  \n",
       "0     0.105075           0  \n",
       "1     0.810120           1  \n",
       "2     0.241170           0  \n",
       "3     0.160729           0  \n",
       "4     0.751491           1  "
      ]
     },
     "execution_count": 4,
     "metadata": {},
     "output_type": "execute_result"
    }
   ],
   "source": [
    "df_new_obs.head()"
   ]
  },
  {
   "cell_type": "code",
   "execution_count": 13,
   "id": "7b421df3",
   "metadata": {},
   "outputs": [
    {
     "data": {
      "text/plain": [
       "40"
      ]
     },
     "execution_count": 13,
     "metadata": {},
     "output_type": "execute_result"
    }
   ],
   "source": [
    "len(df_new_obs)"
   ]
  },
  {
   "cell_type": "markdown",
   "id": "bb7915cf",
   "metadata": {},
   "source": [
    "## Building connection between jupiter notebook and mysql"
   ]
  },
  {
   "cell_type": "code",
   "execution_count": 6,
   "id": "231403c3",
   "metadata": {},
   "outputs": [
    {
     "name": "stdout",
     "output_type": "stream",
     "text": [
      "Collecting pymysql\n",
      "  Downloading PyMySQL-1.1.0-py3-none-any.whl (44 kB)\n",
      "                                              0.0/44.8 kB ? eta -:--:--\n",
      "     ----------------------------------     41.0/44.8 kB 653.6 kB/s eta 0:00:01\n",
      "     -------------------------------------- 44.8/44.8 kB 734.6 kB/s eta 0:00:00\n",
      "Installing collected packages: pymysql\n",
      "Successfully installed pymysql-1.1.0\n"
     ]
    }
   ],
   "source": [
    "!pip install pymysql"
   ]
  },
  {
   "cell_type": "code",
   "execution_count": 7,
   "id": "25916b18",
   "metadata": {},
   "outputs": [],
   "source": [
    "import pymysql"
   ]
  },
  {
   "cell_type": "code",
   "execution_count": 9,
   "id": "cc8f36b5",
   "metadata": {},
   "outputs": [],
   "source": [
    "conn =pymysql.connect(database = 'predicted_outputs', user='root',password='password',host='localhost',port=1234)"
   ]
  },
  {
   "cell_type": "code",
   "execution_count": 10,
   "id": "92c67652",
   "metadata": {},
   "outputs": [],
   "source": [
    "conn.commit()"
   ]
  },
  {
   "cell_type": "code",
   "execution_count": 11,
   "id": "12d59241",
   "metadata": {},
   "outputs": [],
   "source": [
    "#Create a new cursor to execute queries with.\n",
    "cursor=conn.cursor()"
   ]
  },
  {
   "cell_type": "code",
   "execution_count": 12,
   "id": "be239d36",
   "metadata": {},
   "outputs": [
    {
     "data": {
      "text/plain": [
       "40"
      ]
     },
     "execution_count": 12,
     "metadata": {},
     "output_type": "execute_result"
    }
   ],
   "source": [
    "cursor.execute('select * from predicted_outputs;')"
   ]
  },
  {
   "cell_type": "code",
   "execution_count": 14,
   "id": "4a79bafd",
   "metadata": {},
   "outputs": [],
   "source": [
    "insert_query=\"insert into predicted_outputs values\""
   ]
  },
  {
   "cell_type": "code",
   "execution_count": 15,
   "id": "ffe7fc8f",
   "metadata": {},
   "outputs": [
    {
     "data": {
      "text/plain": [
       "'insert into predicted_outputs values'"
      ]
     },
     "execution_count": 15,
     "metadata": {},
     "output_type": "execute_result"
    }
   ],
   "source": [
    "insert_query"
   ]
  },
  {
   "cell_type": "code",
   "execution_count": 16,
   "id": "af49a5a5",
   "metadata": {},
   "outputs": [
    {
     "data": {
      "text/plain": [
       "(40, 13)"
      ]
     },
     "execution_count": 16,
     "metadata": {},
     "output_type": "execute_result"
    }
   ],
   "source": [
    "df_new_obs.shape"
   ]
  },
  {
   "cell_type": "code",
   "execution_count": 17,
   "id": "e2a8d19e",
   "metadata": {},
   "outputs": [
    {
     "data": {
      "text/plain": [
       "array(['reason_1', 'reason_2', 'reason_3', 'reason_4', 'month_value',\n",
       "       'transportation_expense', 'age', 'body_mass_index', 'education',\n",
       "       'children', 'pets', 'probability', 'prediction'], dtype=object)"
      ]
     },
     "execution_count": 17,
     "metadata": {},
     "output_type": "execute_result"
    }
   ],
   "source": [
    "df_new_obs.columns.values"
   ]
  },
  {
   "cell_type": "code",
   "execution_count": 18,
   "id": "851d4e90",
   "metadata": {},
   "outputs": [
    {
     "data": {
      "text/plain": [
       "'age'"
      ]
     },
     "execution_count": 18,
     "metadata": {},
     "output_type": "execute_result"
    }
   ],
   "source": [
    "df_new_obs.columns.values[6]"
   ]
  },
  {
   "cell_type": "code",
   "execution_count": 19,
   "id": "d064fa38",
   "metadata": {},
   "outputs": [
    {
     "data": {
      "text/plain": [
       "0     30\n",
       "1     28\n",
       "2     34\n",
       "3     40\n",
       "4     34\n",
       "5     28\n",
       "6     46\n",
       "7     30\n",
       "8     37\n",
       "9     37\n",
       "10    36\n",
       "11    50\n",
       "12    31\n",
       "13    30\n",
       "14    48\n",
       "15    33\n",
       "16    50\n",
       "17    30\n",
       "18    40\n",
       "19    30\n",
       "20    37\n",
       "21    31\n",
       "22    37\n",
       "23    37\n",
       "24    31\n",
       "25    43\n",
       "26    31\n",
       "27    58\n",
       "28    37\n",
       "29    58\n",
       "30    33\n",
       "31    37\n",
       "32    28\n",
       "33    28\n",
       "34    31\n",
       "35    33\n",
       "36    37\n",
       "37    40\n",
       "38    39\n",
       "39    53\n",
       "Name: age, dtype: int64"
      ]
     },
     "execution_count": 19,
     "metadata": {},
     "output_type": "execute_result"
    }
   ],
   "source": [
    "df_new_obs[df_new_obs.columns.values[6]]"
   ]
  },
  {
   "cell_type": "code",
   "execution_count": 20,
   "id": "8912618a",
   "metadata": {},
   "outputs": [
    {
     "data": {
      "text/plain": [
       "30"
      ]
     },
     "execution_count": 20,
     "metadata": {},
     "output_type": "execute_result"
    }
   ],
   "source": [
    "df_new_obs[df_new_obs.columns.values[6]][0]"
   ]
  },
  {
   "cell_type": "code",
   "execution_count": 21,
   "id": "8e144b80",
   "metadata": {},
   "outputs": [],
   "source": [
    "for i in range (df_new_obs.shape[0]):\n",
    "    insert_query += '('\n",
    "    for j in range (df_new_obs.shape[1]):\n",
    "        insert_query += str(df_new_obs[df_new_obs.columns.values[j]][i]) + ', '\n",
    "    \n",
    "    insert_query=insert_query[:-2] + '), '"
   ]
  },
  {
   "cell_type": "code",
   "execution_count": 22,
   "id": "a8ab74df",
   "metadata": {},
   "outputs": [
    {
     "data": {
      "text/plain": [
       "'insert into predicted_outputs values(0, 0, 0, 1, 6, 179, 30, 19, 1, 0, 0, 0.105075, 0), (1, 0, 0, 0, 6, 361, 28, 27, 0, 1, 4, 0.81012, 1), (0, 0, 0, 1, 6, 155, 34, 25, 0, 2, 0, 0.24117, 0), (0, 0, 0, 1, 6, 179, 40, 22, 1, 2, 0, 0.160729, 0), (1, 0, 0, 0, 6, 155, 34, 25, 0, 2, 0, 0.751491, 1), (1, 0, 0, 0, 6, 225, 28, 24, 0, 1, 2, 0.692978, 1), (1, 0, 0, 0, 6, 118, 46, 25, 0, 2, 0, 0.63296, 1), (0, 0, 0, 1, 6, 179, 30, 19, 1, 0, 0, 0.105075, 0), (0, 0, 0, 1, 6, 118, 37, 28, 0, 0, 0, 0.133915, 0), (1, 0, 0, 0, 6, 118, 37, 28, 0, 0, 0, 0.595337, 1), (0, 0, 0, 1, 6, 378, 36, 21, 0, 2, 4, 0.286105, 0), (0, 0, 1, 0, 6, 118, 50, 31, 0, 1, 0, 0.756993, 1), (0, 0, 1, 0, 6, 233, 31, 21, 1, 1, 8, 0.221894, 0), (0, 0, 0, 1, 6, 179, 30, 19, 1, 0, 0, 0.105075, 0), (0, 0, 0, 0, 6, 235, 48, 33, 0, 1, 5, 0.0665591, 0), (0, 0, 0, 0, 6, 268, 33, 25, 1, 0, 0, 0.188043, 0), (0, 0, 1, 0, 6, 118, 50, 31, 0, 1, 0, 0.756993, 1), (1, 0, 0, 0, 6, 179, 30, 19, 1, 0, 0, 0.527669, 1), (0, 0, 0, 1, 6, 291, 40, 25, 0, 1, 1, 0.326469, 0), (1, 0, 0, 0, 7, 179, 30, 19, 1, 0, 0, 0.543492, 1), (0, 0, 0, 1, 7, 118, 37, 28, 0, 0, 0, 0.141467, 0), (0, 0, 0, 1, 7, 233, 31, 21, 1, 1, 8, 0.017512, 0), (1, 0, 0, 0, 7, 118, 37, 28, 0, 0, 0, 0.610567, 1), (1, 0, 0, 0, 7, 118, 37, 28, 0, 0, 0, 0.610567, 1), (0, 0, 0, 1, 7, 233, 31, 21, 1, 1, 8, 0.017512, 0), (0, 0, 0, 1, 7, 235, 43, 38, 0, 1, 0, 0.477286, 0), (0, 0, 1, 0, 7, 233, 31, 21, 1, 1, 8, 0.233072, 0), (1, 0, 0, 0, 7, 228, 58, 22, 0, 2, 1, 0.683749, 1), (0, 0, 0, 1, 7, 118, 37, 28, 0, 0, 0, 0.141467, 0), (1, 0, 0, 0, 7, 228, 58, 22, 0, 2, 1, 0.683749, 1), (0, 0, 0, 1, 7, 189, 33, 25, 0, 2, 2, 0.187752, 0), (0, 0, 0, 1, 7, 118, 37, 28, 0, 0, 0, 0.141467, 0), (0, 0, 0, 1, 7, 361, 28, 27, 0, 1, 4, 0.323344, 0), (0, 0, 0, 1, 7, 225, 28, 24, 0, 1, 2, 0.201788, 0), (1, 0, 0, 0, 7, 369, 31, 25, 0, 3, 0, 0.964602, 1), (1, 0, 0, 0, 7, 289, 33, 30, 0, 2, 1, 0.906619, 1), (1, 0, 0, 0, 7, 235, 37, 29, 1, 1, 1, 0.731839, 1), (0, 0, 0, 0, 7, 118, 40, 34, 0, 1, 8, 0.0123691, 0), (0, 0, 0, 0, 7, 231, 39, 35, 0, 2, 2, 0.266691, 0), (0, 0, 0, 0, 7, 179, 53, 25, 0, 1, 1, 0.0960732, 0), '"
      ]
     },
     "execution_count": 22,
     "metadata": {},
     "output_type": "execute_result"
    }
   ],
   "source": [
    "insert_query"
   ]
  },
  {
   "cell_type": "code",
   "execution_count": 23,
   "id": "6fcbcaa3",
   "metadata": {},
   "outputs": [],
   "source": [
    "insert_query = insert_query[:-2] + ';'"
   ]
  },
  {
   "cell_type": "code",
   "execution_count": 24,
   "id": "731c3ef9",
   "metadata": {},
   "outputs": [
    {
     "data": {
      "text/plain": [
       "'insert into predicted_outputs values(0, 0, 0, 1, 6, 179, 30, 19, 1, 0, 0, 0.105075, 0), (1, 0, 0, 0, 6, 361, 28, 27, 0, 1, 4, 0.81012, 1), (0, 0, 0, 1, 6, 155, 34, 25, 0, 2, 0, 0.24117, 0), (0, 0, 0, 1, 6, 179, 40, 22, 1, 2, 0, 0.160729, 0), (1, 0, 0, 0, 6, 155, 34, 25, 0, 2, 0, 0.751491, 1), (1, 0, 0, 0, 6, 225, 28, 24, 0, 1, 2, 0.692978, 1), (1, 0, 0, 0, 6, 118, 46, 25, 0, 2, 0, 0.63296, 1), (0, 0, 0, 1, 6, 179, 30, 19, 1, 0, 0, 0.105075, 0), (0, 0, 0, 1, 6, 118, 37, 28, 0, 0, 0, 0.133915, 0), (1, 0, 0, 0, 6, 118, 37, 28, 0, 0, 0, 0.595337, 1), (0, 0, 0, 1, 6, 378, 36, 21, 0, 2, 4, 0.286105, 0), (0, 0, 1, 0, 6, 118, 50, 31, 0, 1, 0, 0.756993, 1), (0, 0, 1, 0, 6, 233, 31, 21, 1, 1, 8, 0.221894, 0), (0, 0, 0, 1, 6, 179, 30, 19, 1, 0, 0, 0.105075, 0), (0, 0, 0, 0, 6, 235, 48, 33, 0, 1, 5, 0.0665591, 0), (0, 0, 0, 0, 6, 268, 33, 25, 1, 0, 0, 0.188043, 0), (0, 0, 1, 0, 6, 118, 50, 31, 0, 1, 0, 0.756993, 1), (1, 0, 0, 0, 6, 179, 30, 19, 1, 0, 0, 0.527669, 1), (0, 0, 0, 1, 6, 291, 40, 25, 0, 1, 1, 0.326469, 0), (1, 0, 0, 0, 7, 179, 30, 19, 1, 0, 0, 0.543492, 1), (0, 0, 0, 1, 7, 118, 37, 28, 0, 0, 0, 0.141467, 0), (0, 0, 0, 1, 7, 233, 31, 21, 1, 1, 8, 0.017512, 0), (1, 0, 0, 0, 7, 118, 37, 28, 0, 0, 0, 0.610567, 1), (1, 0, 0, 0, 7, 118, 37, 28, 0, 0, 0, 0.610567, 1), (0, 0, 0, 1, 7, 233, 31, 21, 1, 1, 8, 0.017512, 0), (0, 0, 0, 1, 7, 235, 43, 38, 0, 1, 0, 0.477286, 0), (0, 0, 1, 0, 7, 233, 31, 21, 1, 1, 8, 0.233072, 0), (1, 0, 0, 0, 7, 228, 58, 22, 0, 2, 1, 0.683749, 1), (0, 0, 0, 1, 7, 118, 37, 28, 0, 0, 0, 0.141467, 0), (1, 0, 0, 0, 7, 228, 58, 22, 0, 2, 1, 0.683749, 1), (0, 0, 0, 1, 7, 189, 33, 25, 0, 2, 2, 0.187752, 0), (0, 0, 0, 1, 7, 118, 37, 28, 0, 0, 0, 0.141467, 0), (0, 0, 0, 1, 7, 361, 28, 27, 0, 1, 4, 0.323344, 0), (0, 0, 0, 1, 7, 225, 28, 24, 0, 1, 2, 0.201788, 0), (1, 0, 0, 0, 7, 369, 31, 25, 0, 3, 0, 0.964602, 1), (1, 0, 0, 0, 7, 289, 33, 30, 0, 2, 1, 0.906619, 1), (1, 0, 0, 0, 7, 235, 37, 29, 1, 1, 1, 0.731839, 1), (0, 0, 0, 0, 7, 118, 40, 34, 0, 1, 8, 0.0123691, 0), (0, 0, 0, 0, 7, 231, 39, 35, 0, 2, 2, 0.266691, 0), (0, 0, 0, 0, 7, 179, 53, 25, 0, 1, 1, 0.0960732, 0);'"
      ]
     },
     "execution_count": 24,
     "metadata": {},
     "output_type": "execute_result"
    }
   ],
   "source": [
    "insert_query"
   ]
  },
  {
   "cell_type": "code",
   "execution_count": 25,
   "id": "678afd10",
   "metadata": {},
   "outputs": [
    {
     "data": {
      "text/plain": [
       "40"
      ]
     },
     "execution_count": 25,
     "metadata": {},
     "output_type": "execute_result"
    }
   ],
   "source": [
    "cursor.execute(insert_query)"
   ]
  },
  {
   "cell_type": "code",
   "execution_count": 26,
   "id": "29477d71",
   "metadata": {},
   "outputs": [],
   "source": [
    "conn.commit()"
   ]
  },
  {
   "cell_type": "code",
   "execution_count": 27,
   "id": "e9633da6",
   "metadata": {},
   "outputs": [],
   "source": [
    "conn.close()"
   ]
  },
  {
   "cell_type": "code",
   "execution_count": null,
   "id": "23f1edd9",
   "metadata": {},
   "outputs": [],
   "source": []
  }
 ],
 "metadata": {
  "kernelspec": {
   "display_name": "Python 3 (ipykernel)",
   "language": "python",
   "name": "python3"
  },
  "language_info": {
   "codemirror_mode": {
    "name": "ipython",
    "version": 3
   },
   "file_extension": ".py",
   "mimetype": "text/x-python",
   "name": "python",
   "nbconvert_exporter": "python",
   "pygments_lexer": "ipython3",
   "version": "3.11.3"
  }
 },
 "nbformat": 4,
 "nbformat_minor": 5
}
